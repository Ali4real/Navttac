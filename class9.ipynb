{
 "cells": [
  {
   "cell_type": "markdown",
   "metadata": {},
   "source": [
    "# Topics\n",
    "- inhertince\n",
    "- polymorphism"
   ]
  },
  {
   "cell_type": "code",
   "execution_count": 22,
   "metadata": {},
   "outputs": [],
   "source": [
    "class Car():\n",
    "    def __init__(self,make,model,engine,fueltank):\n",
    "        self.make=make\n",
    "        self.model=model\n",
    "        self.engine=engine\n",
    "        self.fueltank=fueltank\n",
    "    def detail(self):\n",
    "        print(f\"your make is {self.make} your model is {self.model} your engine {self.engine} your fuel capacityis {self.fueltank}\")\n",
    "    def tank(self):\n",
    "        print(f\"fuel capacity is {self.fueltank}\")\n",
    "    def start(self):\n",
    "        print(f\"{self.model} is started\")\n",
    "    def stop(self):\n",
    "        print(f\"{self.model}is stoped\")\n"
   ]
  },
  {
   "cell_type": "code",
   "execution_count": 23,
   "metadata": {},
   "outputs": [],
   "source": [
    "c1=Car(\"honda\",\"civic\",\"k24\",\"60L\")"
   ]
  },
  {
   "cell_type": "code",
   "execution_count": 24,
   "metadata": {},
   "outputs": [
    {
     "name": "stdout",
     "output_type": "stream",
     "text": [
      "your make is honda your model is civic your engine k24 your fuel capacityis 60L\n"
     ]
    }
   ],
   "source": [
    "c1.detail()"
   ]
  },
  {
   "cell_type": "code",
   "execution_count": 21,
   "metadata": {},
   "outputs": [
    {
     "name": "stdout",
     "output_type": "stream",
     "text": [
      "fuel capacity is 60L\n"
     ]
    }
   ],
   "source": [
    "c1.tank()"
   ]
  },
  {
   "cell_type": "code",
   "execution_count": 25,
   "metadata": {},
   "outputs": [
    {
     "name": "stdout",
     "output_type": "stream",
     "text": [
      "civic is started\n"
     ]
    }
   ],
   "source": [
    "c1.start()"
   ]
  },
  {
   "cell_type": "code",
   "execution_count": 56,
   "metadata": {},
   "outputs": [],
   "source": [
    "class Supercar(Car):\n",
    "    def __init__(self, make, model, engine, fueltank,top_speed):\n",
    "        self.top_speed=top_speed\n",
    "        super().__init__(make, model, engine, fueltank)\n",
    "    "
   ]
  },
  {
   "cell_type": "code",
   "execution_count": 58,
   "metadata": {},
   "outputs": [],
   "source": [
    "s1=Supercar(\"honda\",\"civic\",\"k24\",\"60L\",500)"
   ]
  },
  {
   "cell_type": "code",
   "execution_count": 55,
   "metadata": {},
   "outputs": [
    {
     "name": "stdout",
     "output_type": "stream",
     "text": [
      "your make is honda your model is civic your engine k24 your fuel capacityis 60L\n"
     ]
    }
   ],
   "source": [
    "s1.detail()"
   ]
  },
  {
   "cell_type": "code",
   "execution_count": null,
   "metadata": {},
   "outputs": [],
   "source": [
    "def abc():\n",
    "    print(\"hello\")\n",
    "def abc(num):\n",
    "    print(num)"
   ]
  },
  {
   "cell_type": "code",
   "execution_count": 62,
   "metadata": {},
   "outputs": [],
   "source": [
    "class Electric(Car):\n",
    "    def __init__(self, make, model, engine,top_speed,battery):\n",
    "        self.top_speed=top_speed\n",
    "        super().__init__(make, model, engine,battery)\n",
    "    def tank(self):\n",
    "        print(\"car is electric\")\n",
    "    \n",
    "    "
   ]
  },
  {
   "cell_type": "code",
   "execution_count": 63,
   "metadata": {},
   "outputs": [],
   "source": [
    "e1=Electric(\"tesla\",\"model S\",\"4 motors\",500,\"50000\")"
   ]
  },
  {
   "cell_type": "code",
   "execution_count": 64,
   "metadata": {},
   "outputs": [
    {
     "name": "stdout",
     "output_type": "stream",
     "text": [
      "car is electric\n"
     ]
    }
   ],
   "source": [
    "e1.tank()"
   ]
  },
  {
   "cell_type": "code",
   "execution_count": 65,
   "metadata": {},
   "outputs": [
    {
     "name": "stdout",
     "output_type": "stream",
     "text": [
      "fuel capacity is 60L\n"
     ]
    }
   ],
   "source": [
    "c1.tank()"
   ]
  },
  {
   "cell_type": "code",
   "execution_count": 66,
   "metadata": {},
   "outputs": [
    {
     "name": "stdout",
     "output_type": "stream",
     "text": [
      "fuel capacity is 60L\n"
     ]
    }
   ],
   "source": [
    "s1.tank()"
   ]
  },
  {
   "cell_type": "markdown",
   "metadata": {},
   "source": [
    "# multilevel Inheritence   "
   ]
  },
  {
   "cell_type": "code",
   "execution_count": 67,
   "metadata": {},
   "outputs": [],
   "source": [
    "class Parent():\n",
    "    def function1(self):\n",
    "        print(\"this is function 1\")\n",
    "    def function2(self):\n",
    "        print(\"this is function 2\")\n",
    "    "
   ]
  },
  {
   "cell_type": "code",
   "execution_count": 70,
   "metadata": {},
   "outputs": [],
   "source": [
    "class Child(Parent):\n",
    "    def function3(self):\n",
    "        print(\"this is function 3\")\n",
    "    def function4(self):\n",
    "        print(\"this is function 4\")"
   ]
  },
  {
   "cell_type": "code",
   "execution_count": 79,
   "metadata": {},
   "outputs": [],
   "source": [
    "class GrandChild(Child):\n",
    "    def function5(self):\n",
    "        print(\"this is function 5\")\n",
    "    def function6(self):\n",
    "        print(\"this is function 6\")"
   ]
  },
  {
   "cell_type": "code",
   "execution_count": 80,
   "metadata": {},
   "outputs": [],
   "source": [
    "c1=GrandChild()"
   ]
  },
  {
   "cell_type": "code",
   "execution_count": 81,
   "metadata": {},
   "outputs": [
    {
     "name": "stdout",
     "output_type": "stream",
     "text": [
      "this is function 1\n",
      "this is function 3\n",
      "this is function 6\n"
     ]
    }
   ],
   "source": [
    "c1.function1()\n",
    "c1.function3()\n",
    "c1.function6()"
   ]
  },
  {
   "cell_type": "code",
   "execution_count": null,
   "metadata": {},
   "outputs": [],
   "source": []
  }
 ],
 "metadata": {
  "kernelspec": {
   "display_name": "Python 3",
   "language": "python",
   "name": "python3"
  },
  "language_info": {
   "codemirror_mode": {
    "name": "ipython",
    "version": 3
   },
   "file_extension": ".py",
   "mimetype": "text/x-python",
   "name": "python",
   "nbconvert_exporter": "python",
   "pygments_lexer": "ipython3",
   "version": "3.12.4"
  }
 },
 "nbformat": 4,
 "nbformat_minor": 2
}
