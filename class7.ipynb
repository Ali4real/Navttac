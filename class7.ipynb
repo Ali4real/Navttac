{
 "cells": [
  {
   "cell_type": "markdown",
   "metadata": {},
   "source": [
    "# Arbitrary parameters"
   ]
  },
  {
   "cell_type": "markdown",
   "metadata": {},
   "source": [
    "- while creating a function many times we don't know how many arguments the function is going to use\n",
    "- in this case either we can create some number ammout of parameters. what if while testing someone gonna pass 50 argumenst while only 30 parameters was defined \n",
    "- for this we can use arbitrary parameters \n",
    "- arbitrary parameters are defined by using * before parameter\n"
   ]
  },
  {
   "cell_type": "code",
   "execution_count": 1,
   "metadata": {},
   "outputs": [],
   "source": [
    "# lets create a simple function first that will take user information and returns use in the form of a table \n",
    "def userifo(Name,roll):\n",
    "    print(f'''\n",
    "            Bio Data\n",
    "        Name :{Name}\n",
    "        roll :{roll} ''')\n",
    "#in this function we've only defined two parameters"
   ]
  },
  {
   "cell_type": "code",
   "execution_count": 2,
   "metadata": {},
   "outputs": [
    {
     "ename": "TypeError",
     "evalue": "userifo() takes 2 positional arguments but 4 were given",
     "output_type": "error",
     "traceback": [
      "\u001b[1;31m---------------------------------------------------------------------------\u001b[0m",
      "\u001b[1;31mTypeError\u001b[0m                                 Traceback (most recent call last)",
      "Cell \u001b[1;32mIn[2], line 2\u001b[0m\n\u001b[0;32m      1\u001b[0m \u001b[38;5;66;03m# lets pass this funciton more then two parameters in this case department and program\u001b[39;00m\n\u001b[1;32m----> 2\u001b[0m \u001b[43muserifo\u001b[49m\u001b[43m(\u001b[49m\u001b[38;5;124;43m\"\u001b[39;49m\u001b[38;5;124;43mali\u001b[39;49m\u001b[38;5;124;43m\"\u001b[39;49m\u001b[43m,\u001b[49m\u001b[38;5;124;43m\"\u001b[39;49m\u001b[38;5;124;43mF20-0013\u001b[39;49m\u001b[38;5;124;43m\"\u001b[39;49m\u001b[43m,\u001b[49m\u001b[38;5;124;43m\"\u001b[39;49m\u001b[38;5;124;43mIT\u001b[39;49m\u001b[38;5;124;43m\"\u001b[39;49m\u001b[43m,\u001b[49m\u001b[38;5;124;43m\"\u001b[39;49m\u001b[38;5;124;43mBS(SE)\u001b[39;49m\u001b[38;5;124;43m\"\u001b[39;49m\u001b[43m)\u001b[49m\n",
      "\u001b[1;31mTypeError\u001b[0m: userifo() takes 2 positional arguments but 4 were given"
     ]
    }
   ],
   "source": [
    "# lets pass this funciton more then two parameters in this case department and program\n",
    "userifo(\"ali\",\"F20-0013\",\"IT\",\"BS(SE)\")"
   ]
  },
  {
   "cell_type": "code",
   "execution_count": 3,
   "metadata": {},
   "outputs": [],
   "source": [
    "#now lets create an arbitrary parameter\n",
    "def userifo(Name,roll,*other):\n",
    "    print(f'''\n",
    "            Bio Data\n",
    "        Name :{Name}\n",
    "        roll :{roll} \n",
    "        other:{other}''')"
   ]
  },
  {
   "cell_type": "code",
   "execution_count": 4,
   "metadata": {},
   "outputs": [
    {
     "name": "stdout",
     "output_type": "stream",
     "text": [
      "\n",
      "            Bio Data\n",
      "        Name :ali\n",
      "        roll :F20-0013 \n",
      "        other:('IT', 'BS(SE)')\n"
     ]
    }
   ],
   "source": [
    "userifo(\"ali\",\"F20-0013\",\"IT\",\"BS(SE)\")"
   ]
  },
  {
   "cell_type": "code",
   "execution_count": null,
   "metadata": {},
   "outputs": [],
   "source": [
    "# now if we pass it more then the defined numbers of parameters, it stores the rest of the arguments in a tuple\n",
    "#you can modify the above function to print each argumnet seperatly by using for loop\n"
   ]
  },
  {
   "cell_type": "code",
   "execution_count": null,
   "metadata": {},
   "outputs": [],
   "source": [
    "# modify the above function here:"
   ]
  },
  {
   "cell_type": "markdown",
   "metadata": {},
   "source": [
    "# creating a dictionary using arbitrary parameter"
   ]
  },
  {
   "cell_type": "code",
   "execution_count": 5,
   "metadata": {},
   "outputs": [],
   "source": [
    "def userinfo(fname,lname,**others):\n",
    "    other=others\n",
    "    print(fname,lname)\n",
    "    for k in other.values():\n",
    "        print(k)"
   ]
  },
  {
   "cell_type": "code",
   "execution_count": 6,
   "metadata": {},
   "outputs": [
    {
     "name": "stdout",
     "output_type": "stream",
     "text": [
      "ali rasheed\n",
      "12\n",
      "A\n",
      "IT\n"
     ]
    }
   ],
   "source": [
    "userinfo(fname=\"ali\",lname=\"rasheed\",rollno=12,section=\"A\",dpt=\"IT\")"
   ]
  }
 ],
 "metadata": {
  "kernelspec": {
   "display_name": "Python 3",
   "language": "python",
   "name": "python3"
  },
  "language_info": {
   "codemirror_mode": {
    "name": "ipython",
    "version": 3
   },
   "file_extension": ".py",
   "mimetype": "text/x-python",
   "name": "python",
   "nbconvert_exporter": "python",
   "pygments_lexer": "ipython3",
   "version": "3.12.4"
  }
 },
 "nbformat": 4,
 "nbformat_minor": 2
}
