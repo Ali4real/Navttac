{
 "cells": [
  {
   "cell_type": "markdown",
   "metadata": {},
   "source": [
    "# Function\n",
    "- Built-in Function\n",
    "- user defined function"
   ]
  },
  {
   "cell_type": "code",
   "execution_count": 2,
   "metadata": {},
   "outputs": [
    {
     "name": "stdout",
     "output_type": "stream",
     "text": [
      "hello\n"
     ]
    },
    {
     "data": {
      "text/plain": [
       "int"
      ]
     },
     "execution_count": 2,
     "metadata": {},
     "output_type": "execute_result"
    }
   ],
   "source": [
    "# build in function\n",
    "print(\"hello\")\n",
    "len(\"hello\")\n",
    "type(12)\n",
    "#note: a fuction always ends with ()"
   ]
  },
  {
   "cell_type": "code",
   "execution_count": 3,
   "metadata": {},
   "outputs": [],
   "source": [
    "# use defined fuction\n",
    "# defined by using def keyword followed by function name and ():\n",
    "def function_name():\n",
    "    print(\"hello user\")\n",
    "    #function body\n",
    "    #function body\n",
    "    #function body\n",
    "    #function body\n",
    "    #function body\n"
   ]
  },
  {
   "cell_type": "markdown",
   "metadata": {},
   "source": [
    "### calling a function"
   ]
  },
  {
   "cell_type": "code",
   "execution_count": 4,
   "metadata": {},
   "outputs": [
    {
     "name": "stdout",
     "output_type": "stream",
     "text": [
      "hello user\n",
      "hello user\n",
      "hello user\n",
      "hello user\n",
      "hello user\n",
      "hello user\n",
      "hello user\n"
     ]
    }
   ],
   "source": [
    "\n",
    "function_name()\n",
    "# function can be called multiple times\n",
    "function_name()\n",
    "function_name()\n",
    "function_name()\n",
    "function_name()\n",
    "function_name()\n",
    "function_name()\n"
   ]
  },
  {
   "cell_type": "markdown",
   "metadata": {},
   "source": [
    "## Parameters and arguments:\n",
    "- parameters are expected values given by user\n",
    "- arguments are values given by user to a function"
   ]
  },
  {
   "cell_type": "markdown",
   "metadata": {},
   "source": [
    "##### parameter less function"
   ]
  },
  {
   "cell_type": "code",
   "execution_count": 5,
   "metadata": {},
   "outputs": [],
   "source": [
    "def hello():\n",
    "    print(\"hello world\")"
   ]
  },
  {
   "cell_type": "code",
   "execution_count": 6,
   "metadata": {},
   "outputs": [
    {
     "name": "stdout",
     "output_type": "stream",
     "text": [
      "hello world\n"
     ]
    }
   ],
   "source": [
    "hello()"
   ]
  },
  {
   "cell_type": "markdown",
   "metadata": {},
   "source": [
    "#### parameterized function"
   ]
  },
  {
   "cell_type": "code",
   "execution_count": 7,
   "metadata": {},
   "outputs": [],
   "source": [
    "#an example of parametes and arguments \n",
    "def grettings(username):#  username is the parameters given to function. parameters are assigned inside the brackets\n",
    "    print(\"hello \",username)"
   ]
  },
  {
   "cell_type": "code",
   "execution_count": 8,
   "metadata": {},
   "outputs": [
    {
     "name": "stdout",
     "output_type": "stream",
     "text": [
      "hello  ali\n"
     ]
    }
   ],
   "source": [
    "grettings(\"ali\")#ali is the arguments suplied by the user"
   ]
  },
  {
   "cell_type": "markdown",
   "metadata": {},
   "source": [
    "### calling a function without passing an argument\n"
   ]
  },
  {
   "cell_type": "code",
   "execution_count": 9,
   "metadata": {},
   "outputs": [
    {
     "ename": "TypeError",
     "evalue": "grettings() missing 1 required positional argument: 'username'",
     "output_type": "error",
     "traceback": [
      "\u001b[1;31m---------------------------------------------------------------------------\u001b[0m",
      "\u001b[1;31mTypeError\u001b[0m                                 Traceback (most recent call last)",
      "Cell \u001b[1;32mIn[9], line 1\u001b[0m\n\u001b[1;32m----> 1\u001b[0m \u001b[43mgrettings\u001b[49m\u001b[43m(\u001b[49m\u001b[43m)\u001b[49m\n\u001b[0;32m      2\u001b[0m \u001b[38;5;66;03m#in this case we can see an error is thrown stateing an argument is missing(username in this case)\u001b[39;00m\n",
      "\u001b[1;31mTypeError\u001b[0m: grettings() missing 1 required positional argument: 'username'"
     ]
    }
   ],
   "source": [
    "grettings()\n",
    "#in this case we can see an error is thrown stateing an argument is missing(username in this case)"
   ]
  },
  {
   "cell_type": "markdown",
   "metadata": {},
   "source": [
    "### passing multiple parameters to a function"
   ]
  },
  {
   "cell_type": "code",
   "execution_count": null,
   "metadata": {},
   "outputs": [],
   "source": [
    "#we created a student id function that will show bio data \n",
    "# name, Rollno, program,section are the arguments passed to the function\n",
    "def studnetid (name, Rollno, program,section):\n",
    "   \n",
    "    print(f'''Bio Data\n",
    "          name={name}\n",
    "          Roll= {Rollno}\n",
    "           program= {program}\n",
    "           section={section}''')\n",
    "\n"
   ]
  },
  {
   "cell_type": "markdown",
   "metadata": {},
   "source": [
    "### positional arguments \n"
   ]
  },
  {
   "cell_type": "code",
   "execution_count": null,
   "metadata": {},
   "outputs": [
    {
     "name": "stdout",
     "output_type": "stream",
     "text": [
      "Bio Data\n",
      "          name=ali\n",
      "          Roll= 27\n",
      "           program= SE\n",
      "           section=A\n"
     ]
    }
   ],
   "source": [
    "# calling studentid function \n",
    "studnetid(\"ali\",27,\"SE\",\"A\")"
   ]
  },
  {
   "cell_type": "code",
   "execution_count": null,
   "metadata": {},
   "outputs": [],
   "source": [
    "#what if we provide arguments against the order in which parameters are created\n",
    "#def studnetid (name, Rollno, program,section): this is the parameter order\n",
    "# lets pass the values against this order\n"
   ]
  },
  {
   "cell_type": "code",
   "execution_count": null,
   "metadata": {},
   "outputs": [
    {
     "name": "stdout",
     "output_type": "stream",
     "text": [
      "Bio Data\n",
      "          name=A\n",
      "          Roll= SE\n",
      "           program= Ali\n",
      "           section=27\n"
     ]
    }
   ],
   "source": [
    "#lets pass section, then program then name and lastly roll number\n",
    "studnetid(\"A\",\"SE\",\"Ali\",27)\n",
    "# we see arguments are assigned based on the position of the arguments\n"
   ]
  },
  {
   "cell_type": "code",
   "execution_count": null,
   "metadata": {},
   "outputs": [
    {
     "name": "stdout",
     "output_type": "stream",
     "text": [
      "Bio Data\n",
      "          name=ali\n",
      "          Roll= 27\n",
      "           program= SE\n",
      "           section=A\n"
     ]
    }
   ],
   "source": [
    "#if we want to pass arguments without following order we can use assignment\n",
    "studnetid(Rollno=27,name=\"ali\",section=\"A\",program=\"SE\")"
   ]
  },
  {
   "cell_type": "markdown",
   "metadata": {},
   "source": [
    "# Local & Global Variable:\n",
    "- local variables: are created inside a funciton and cannot be accessed outside the function\n",
    "- global variables: are created outside a function and can be accessed  inside the function\n"
   ]
  },
  {
   "cell_type": "code",
   "execution_count": null,
   "metadata": {},
   "outputs": [
    {
     "name": "stdout",
     "output_type": "stream",
     "text": [
      "0\n"
     ]
    }
   ],
   "source": [
    "#global variable\n",
    "a=0\n",
    "def something():\n",
    "    print(a)\n",
    "something()\n",
    "# here \"a\" is global veriable that can accessed within the function"
   ]
  },
  {
   "cell_type": "code",
   "execution_count": null,
   "metadata": {},
   "outputs": [
    {
     "ename": "NameError",
     "evalue": "name 'b' is not defined",
     "output_type": "error",
     "traceback": [
      "\u001b[1;31m---------------------------------------------------------------------------\u001b[0m",
      "\u001b[1;31mNameError\u001b[0m                                 Traceback (most recent call last)",
      "Cell \u001b[1;32mIn[64], line 5\u001b[0m\n\u001b[0;32m      2\u001b[0m \u001b[38;5;28;01mdef\u001b[39;00m \u001b[38;5;21mlocal\u001b[39m():\n\u001b[0;32m      3\u001b[0m     b\u001b[38;5;241m=\u001b[39m\u001b[38;5;241m0\u001b[39m\n\u001b[1;32m----> 5\u001b[0m \u001b[38;5;28mprint\u001b[39m(\u001b[43mb\u001b[49m)    \n",
      "\u001b[1;31mNameError\u001b[0m: name 'b' is not defined"
     ]
    }
   ],
   "source": [
    "#local variable\n",
    "def local():\n",
    "    b=0\n",
    "\n",
    "print(b)    \n",
    "# b is a local variable that cannot be accessed outside the function"
   ]
  },
  {
   "cell_type": "markdown",
   "metadata": {},
   "source": [
    "# Nested functions:\n",
    "- calling a function inside a function"
   ]
  },
  {
   "cell_type": "code",
   "execution_count": null,
   "metadata": {},
   "outputs": [],
   "source": [
    "# this function will calculate tax based on salary \n",
    "def tax(salary):\n",
    "    \"\"\"this function calculate tax\"\"\"\n",
    "    taxed=0\n",
    "    if salary>=100000:\n",
    "        taxed=salary*0.05\n",
    "        print(f\"you will pay {taxed} in tax\")\n",
    "      \n",
    "    elif salary>=50000:\n",
    "        taxed=salary*0.02\n",
    "        print(f\"you will pay {taxed} in tax\")\n",
    "       \n",
    "    else:\n",
    "        taxed=salary*0.0\n",
    "        print(f\"you will pay {taxed} in tax\")\n",
    "        "
   ]
  },
  {
   "cell_type": "code",
   "execution_count": null,
   "metadata": {},
   "outputs": [
    {
     "name": "stdout",
     "output_type": "stream",
     "text": [
      "you will pay 5000.0 in tax\n"
     ]
    }
   ],
   "source": [
    "tax(100000)"
   ]
  },
  {
   "cell_type": "code",
   "execution_count": null,
   "metadata": {},
   "outputs": [],
   "source": [
    "# lets create a function that will calculate gross \n",
    "# insted of calculating tax again we can just call the tax function we created previously\n",
    "#it should calculate tax and return us tax ammont\n",
    "def gross(salary):\n",
    "    paid=salary-tax(salary)\n",
    "    print(paid)"
   ]
  }
 ],
 "metadata": {
  "kernelspec": {
   "display_name": "Python 3",
   "language": "python",
   "name": "python3"
  },
  "language_info": {
   "codemirror_mode": {
    "name": "ipython",
    "version": 3
   },
   "file_extension": ".py",
   "mimetype": "text/x-python",
   "name": "python",
   "nbconvert_exporter": "python",
   "pygments_lexer": "ipython3",
   "version": "3.12.4"
  }
 },
 "nbformat": 4,
 "nbformat_minor": 2
}
