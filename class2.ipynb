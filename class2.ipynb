{
 "cells": [
  {
   "cell_type": "markdown",
   "metadata": {},
   "source": [
<<<<<<< HEAD
    "# Topics\n",
    "- type casting \n",
    "- user input \n",
    "- string concatination\n",
    "- string format\n",
    "- string \n",
    "- if statement\n",
    "- else statement"
   ]
  },
  {
   "cell_type": "code",
   "execution_count": 4,
   "metadata": {},
   "outputs": [
    {
     "data": {
      "text/plain": [
       "str"
      ]
     },
     "execution_count": 4,
     "metadata": {},
     "output_type": "execute_result"
    }
   ],
   "source": [
    "type(\"12\")"
   ]
  },
  {
   "cell_type": "code",
   "execution_count": 30,
   "metadata": {},
   "outputs": [
    {
     "name": "stdout",
     "output_type": "stream",
     "text": [
      "1\n"
     ]
    }
   ],
   "source": [
    "age=input(\"please enter your age\")\n",
    "print(age)\n"
   ]
  },
  {
   "cell_type": "markdown",
   "metadata": {},
   "source": [
    "Program to calculate age after 10 years(practical of concatination and format)"
   ]
  },
  {
   "cell_type": "code",
   "execution_count": 41,
   "metadata": {},
   "outputs": [
    {
     "name": "stdout",
     "output_type": "stream",
     "text": [
      "your name is your ali age after 10 years will be 30\n"
     ]
    }
   ],
   "source": [
    "name=input(\"please enter your name\")\n",
    "age=int(input(\"please enter your age\"))\n",
    "uage=age+10\n",
    "#concatination\n",
    "print(\"your name is \"+age+\"your age after 10 years will be\",uage)\n",
    "\n",
    "#format using f\n",
    "print(f\"your name is your {name} age after 10 years will be {uage}\")\n",
    "#format using .format()   \n",
    "print(\"your name is your {} age after 10 years will be {}\".format(name,uage)) \n",
    "#place holder value will be replaced based on index                                                          \n",
    "                                                                   "
   ]
  },
  {
   "cell_type": "markdown",
   "metadata": {},
   "source": [
    "## string concatination\n",
    "    - joining of two strings\n"
   ]
  },
  {
   "cell_type": "markdown",
   "metadata": {},
   "source": []
  },
  {
   "cell_type": "code",
   "execution_count": 19,
   "metadata": {},
   "outputs": [],
   "source": [
    "fname=\"ahmad\"\n",
    "lname=\"gul\""
   ]
  },
  {
   "cell_type": "code",
   "execution_count": 34,
   "metadata": {},
   "outputs": [
    {
     "name": "stdout",
     "output_type": "stream",
     "text": [
      "ahmadgul\n"
     ]
    }
   ],
   "source": [
    "full_name=fname+lname\n",
    "print(full_name)"
   ]
  },
  {
   "cell_type": "markdown",
   "metadata": {},
   "source": [
    "### String Formation\n",
    "   - enter user input in a statement without concatination"
   ]
  },
  {
   "cell_type": "markdown",
   "metadata": {},
   "source": [
    "### string\n",
    " - .upper()\n",
    " - .lower()\n",
    " - .strip() "
   ]
  },
  {
   "cell_type": "code",
   "execution_count": 51,
   "metadata": {},
   "outputs": [],
   "source": [
    "designation=\"   teacher   \""
   ]
  },
  {
   "cell_type": "code",
   "execution_count": 55,
   "metadata": {},
   "outputs": [
    {
     "data": {
      "text/plain": [
       "'teacher'"
      ]
     },
     "execution_count": 55,
     "metadata": {},
     "output_type": "execute_result"
    }
   ],
   "source": [
    "designation.strip()"
   ]
  },
  {
   "cell_type": "markdown",
   "metadata": {},
   "source": []
  }
 ],
 "metadata": {
  "kernelspec": {
   "display_name": "Python 3",
   "language": "python",
   "name": "python3"
  },
  "language_info": {
   "codemirror_mode": {
    "name": "ipython",
    "version": 3
   },
   "file_extension": ".py",
   "mimetype": "text/x-python",
   "name": "python",
   "nbconvert_exporter": "python",
   "pygments_lexer": "ipython3",
   "version": "3.12.4"
=======
    "topic"
   ]
  }
 ],
 "metadata": {
  "language_info": {
   "name": "python"
>>>>>>> f6e0ada55dcc25bb4f0d5292a05c4ac9a88a13b3
  }
 },
 "nbformat": 4,
 "nbformat_minor": 2
}
