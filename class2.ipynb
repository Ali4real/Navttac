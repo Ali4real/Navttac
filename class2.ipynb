{
 "cells": [
  {
   "cell_type": "markdown",
   "metadata": {},
   "source": [
    "# Topic:\n",
    "- type casting \n",
    "- input \n",
    "- string concatination\n",
    "- string formation\n",
    "- string functions\n"
   ]
  },
  {
   "cell_type": "markdown",
   "metadata": {},
   "source": [
    "# Type casting\n",
    "- explicit casting (done by programmer)\n",
    "- implicit casting (done by interpreter)"
   ]
  },
  {
   "cell_type": "code",
   "execution_count": 42,
   "metadata": {},
   "outputs": [
    {
     "name": "stdout",
     "output_type": "stream",
     "text": [
      "12.5\n",
      "The number is 100\n"
     ]
    }
   ],
   "source": [
    "# Adding an integer and a float\n",
    "num_int = 10\n",
    "num_float = 2.5\n",
    "result = num_int + num_float  # Implicit casting\n",
    "print(result)  # Output: 12.5 (int is implicitly converted to float)\n",
    "\n",
    "# String concatenation with an integer (results in error without explicit casting)\n",
    "num = 100\n",
    "str_num = \"The number is \" + str(num)  # Explicit casting needed here\n",
    "print(str_num)  # Output: \"The number is 100\""
   ]
  },
  {
   "cell_type": "markdown",
   "metadata": {},
   "source": [
    "# input \n",
    " - take user input during rutime\n",
    " - default type is str\n",
    " "
   ]
  },
  {
   "cell_type": "code",
   "execution_count": 43,
   "metadata": {},
   "outputs": [
    {
     "name": "stdout",
     "output_type": "stream",
     "text": [
      "ali\n"
     ]
    }
   ],
   "source": [
    "user_name=input(\"enter your name\")\n",
    "print(user_name)"
   ]
  },
  {
   "cell_type": "markdown",
   "metadata": {},
   "source": [
    "# String Concatination:\n",
    "- adding two stirng (+)"
   ]
  },
  {
   "cell_type": "code",
   "execution_count": 44,
   "metadata": {},
   "outputs": [
    {
     "name": "stdout",
     "output_type": "stream",
     "text": [
      "ahmedgul\n"
     ]
    }
   ],
   "source": [
    "first_name=\"ahmed\"\n",
    "last_name=\"gul\"\n",
    "full_name=first_name+last_name\n",
    "print(full_name)"
   ]
  },
  {
   "cell_type": "markdown",
   "metadata": {},
   "source": [
    "# String formation\n",
    "-  is done using .format()\n",
    "-  place holders {} value will be replaced based on index\n",
    "-  f is another way of formating."
   ]
  },
  {
   "cell_type": "code",
   "execution_count": 20,
   "metadata": {},
   "outputs": [
    {
     "name": "stdout",
     "output_type": "stream",
     "text": [
      "your name isali yor age is11\n"
     ]
    }
   ],
   "source": [
    "uname=input(\"enter your name\")\n",
    "age=int(input(\"enter your age\"))\n",
    "print(\"your name is {1} your age is {0}\".format(uname,age))\n",
    "print(f\"your name is{uname} yor age is{age}\")"
   ]
  },
  {
   "cell_type": "code",
   "execution_count": 14,
   "metadata": {},
   "outputs": [],
   "source": [
    "fname=\"ahmed\"\n",
    "lname=\"gull\"\n"
   ]
  },
  {
   "cell_type": "code",
   "execution_count": 15,
   "metadata": {},
   "outputs": [
    {
     "data": {
      "text/plain": [
       "'ahmedgull'"
      ]
     },
     "execution_count": 15,
     "metadata": {},
     "output_type": "execute_result"
    }
   ],
   "source": [
    "fname+lname"
   ]
  },
  {
   "cell_type": "code",
   "execution_count": 28,
   "metadata": {},
   "outputs": [],
   "source": [
    "title=\"     teacher     \""
   ]
  },
  {
   "cell_type": "code",
   "execution_count": 29,
   "metadata": {},
   "outputs": [
    {
     "name": "stdout",
     "output_type": "stream",
     "text": [
      "     teacher     \n"
     ]
    }
   ],
   "source": [
    "print(title)"
   ]
  },
  {
   "cell_type": "code",
   "execution_count": 32,
   "metadata": {},
   "outputs": [
    {
     "data": {
      "text/plain": [
       "'teacher'"
      ]
     },
     "execution_count": 32,
     "metadata": {},
     "output_type": "execute_result"
    }
   ],
   "source": [
    "title.strip()"
   ]
  }
 ],
 "metadata": {
  "kernelspec": {
   "display_name": "Python 3",
   "language": "python",
   "name": "python3"
  },
  "language_info": {
   "codemirror_mode": {
    "name": "ipython",
    "version": 3
   },
   "file_extension": ".py",
   "mimetype": "text/x-python",
   "name": "python",
   "nbconvert_exporter": "python",
   "pygments_lexer": "ipython3",
   "version": "3.12.4"
  }
 },
 "nbformat": 4,
 "nbformat_minor": 2
}
