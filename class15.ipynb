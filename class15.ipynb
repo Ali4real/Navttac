{
 "cells": [
  {
   "cell_type": "markdown",
   "metadata": {},
   "source": [
    "# Polynomial Regression"
   ]
  },
  {
   "cell_type": "code",
   "execution_count": null,
   "metadata": {},
   "outputs": [],
   "source": [
    "import numpy as np\n",
    "import matplotlib.pyplot as plt\n",
    "from sklearn.linear_model import LinearRegression\n",
    "from sklearn.preprocessing import PolynomialFeatures\n",
    "\n",
    "# Step 1: Prepare the data\n",
    "X = np.array([1, 2, 3, 4, 5, 6, 7, 8, 9, 10]).reshape(-1, 1)  # Independent variable\n",
    "y = np.array([1, 4, 9, 16, 25, 36, 49, 64, 81, 100])  # Dependent variable (perfect squares)\n",
    "\n",
    "# Step 2: Transform the data into polynomial features\n",
    "degree = 2  # Degree of the polynomial\n",
    "poly_features = PolynomialFeatures(degree=degree)\n",
    "X_poly = poly_features.fit_transform(X)\n",
    "\n",
    "# Step 3: Fit the model\n",
    "model = LinearRegression()\n",
    "model.fit(X_poly, y)\n",
    "\n",
    "# Step 4: Predict using the model\n",
    "X_range = np.linspace(1, 10, 100).reshape(-1, 1)  # Generate a smooth range of values for X\n",
    "X_range_poly = poly_features.transform(X_range)   # Transform to polynomial features\n",
    "y_pred = model.predict(X_range_poly)              # Predict values\n",
    "\n",
    "# Step 5: Plot the original data points and the polynomial regression curve\n",
    "plt.scatter(X, y, color='blue', label='Data Points')  # Original data points\n",
    "plt.plot(X_range, y_pred, color='red', label='Polynomial Regression Line')  # Polynomial regression line\n",
    "\n",
    "# Add titles and labels\n",
    "plt.title('Polynomial Regression (Degree = 2)')\n",
    "plt.xlabel('X')\n",
    "plt.ylabel('y')\n",
    "plt.legend()\n",
    "\n",
    "# Show the plot\n",
    "plt.show()\n"
   ]
  }
 ],
 "metadata": {
  "language_info": {
   "name": "python"
  }
 },
 "nbformat": 4,
 "nbformat_minor": 2
}
