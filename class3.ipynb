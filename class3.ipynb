{
 "cells": [
  {
   "cell_type": "markdown",
   "metadata": {},
   "source": [
    "# Topic:\n",
    "- IF statement \n",
    "- else statement \n",
    "- elif statement \n",
    "- multiple if statement\n",
    "- nested if statement\n",
    "- AND \n",
    "- OR\n"
   ]
  },
  {
   "cell_type": "code",
   "execution_count": 5,
   "metadata": {},
   "outputs": [
    {
     "name": "stdout",
     "output_type": "stream",
     "text": [
      "out of budget\n"
     ]
    }
   ],
   "source": [
    "budget= int(input(\"please enter your budget\"))\n",
    "if budget>=1000:\n",
    "    print(\"shirts are avaliable\")\n",
    "else:\n",
    "    print(\"out of budget\")"
   ]
  },
  {
   "cell_type": "markdown",
   "metadata": {},
   "source": [
    "# Nested IF statement"
   ]
  },
  {
   "cell_type": "code",
   "execution_count": 10,
   "metadata": {},
   "outputs": [
    {
     "name": "stdout",
     "output_type": "stream",
     "text": [
      "toyota black 1000\n",
      "gari ha\n"
     ]
    }
   ],
   "source": [
    "maker= input(\"please enter your car barnd\").lower()\n",
    "clr= input(\"enter your clr choice\").lower()\n",
    "price= int(input(\"enter your budget\"))\n",
    "print(maker,clr,price)\n",
    "\n",
    "if maker==\"toyota\":\n",
    "    if clr==\"black\":\n",
    "        if price==1000:\n",
    "            print(\"gari ha\")\n",
    "        else:\n",
    "            print(\"soorry\")\n",
    "    else:\n",
    "        print(\"clr nai ha\")\n",
    "else:\n",
    "    print(\"brand nai ha\")\n"
   ]
  },
  {
   "cell_type": "markdown",
   "metadata": {},
   "source": [
    "# Multiple IF statement"
   ]
  },
  {
   "cell_type": "code",
   "execution_count": 37,
   "metadata": {},
   "outputs": [
    {
     "name": "stdout",
     "output_type": "stream",
     "text": [
      "A\n"
     ]
    }
   ],
   "source": [
    "english=int(input(\"enter your number\"))\n",
    "math=int(input(\"enter your number\"))\n",
    "phy=int(input(\"enter your number\"))\n",
    "cs=int(input(\"enter your number\"))\n",
    "his=int(input(\"enter your number\"))\n",
    "total=500\n",
    "obtained=english+math+phy+cs+his\n",
    "percent=(obtained/total)*100\n",
    "print(percent)\n",
    "if percent>=90 and percent<100:\n",
    "    print(\"A\")\n",
    "if percent>=80 and percent<90:\n",
    "    print(\"B\")\n",
    "if percent>=70 and percent<80:\n",
    "    print(\"C\")\n",
    "if percent>=60 and percent<70:\n",
    "    print(\"D\")\n",
    "if percent>=50 and percent<60:\n",
    "    print(\"E\")\n",
    "if percent<=40 and percent<50:\n",
    "    print(\"F\")\n"
   ]
  },
  {
   "cell_type": "code",
   "execution_count": 14,
   "metadata": {},
   "outputs": [
    {
     "name": "stdout",
     "output_type": "stream",
     "text": [
      " you can make driving licinece\n"
     ]
    }
   ],
   "source": [
    "id=input(\"ap ka pas id ha\")\n",
    "password = input(\"ap ka pas passport ha\")\n",
    "if id==\"yes\":\n",
    "    print(\" you can make driving licinece\")\n",
    "elif password== \"yes\":\n",
    "    print(\" you can make driving licinece\")\n",
    "else:\n",
    "    print(\"sorry\")"
   ]
  },
  {
   "cell_type": "code",
   "execution_count": 15,
   "metadata": {},
   "outputs": [
    {
     "name": "stdout",
     "output_type": "stream",
     "text": [
      "welcome\n"
     ]
    }
   ],
   "source": [
    "uid=input(\"enter your id\")\n",
    "pwd=input(\"enter pwd\")\n",
    "if uid==\"admin\" and pwd==\"admin\":\n",
    "    print(\"welcome\")\n",
    "else:\n",
    "    print(\"sorry\")\n",
    "\n"
   ]
  },
  {
   "cell_type": "code",
   "execution_count": 16,
   "metadata": {},
   "outputs": [
    {
     "name": "stdout",
     "output_type": "stream",
     "text": [
      "theek ha\n"
     ]
    }
   ],
   "source": [
    "id=input(\"ap ka pas id ha\")\n",
    "password = input(\"ap ka pas passport ha\")\n",
    "if id==\"yes\" or password==\"yes\":\n",
    "    print(\"theek ha\")\n",
    "else: \n",
    "    print(\"sooory\")"
   ]
  },
  {
   "cell_type": "code",
   "execution_count": 25,
   "metadata": {},
   "outputs": [],
   "source": [
    "\n",
    "full=\"khan awan\"\n",
    "#     0123456789\n",
    "f_n=full[:4]\n",
    "ln=full[5:10]"
   ]
  },
  {
   "cell_type": "code",
   "execution_count": 35,
   "metadata": {},
   "outputs": [],
   "source": [
    "dob=input(\"please enter your dob(dd-mm-yyyy)\")\n",
    "cd=input(\"enter any other date(dd-mm-yyyy)\")\n",
    "dd=dob[:2]\n",
    "md=dob[3:5]\n",
    "dy=dob[6:10]\n",
    "#current date\n",
    "cc=cd[:2]\n",
    "cm=cd[3:5]\n",
    "cy=cd[6:10]\n",
    "\n",
    "trueyear=int(cy)-int(dy)\n",
    "truemonth=int(cm)-int(md)\n",
    "truedate=int(cc)-int(dd)\n",
    "print(f\"your currnet age is {truedate}days{truemonth}months{trueyear}years\")"
   ]
  }
 ],
 "metadata": {
  "kernelspec": {
   "display_name": "Python 3",
   "language": "python",
   "name": "python3"
  },
  "language_info": {
   "codemirror_mode": {
    "name": "ipython",
    "version": 3
   },
   "file_extension": ".py",
   "mimetype": "text/x-python",
   "name": "python",
   "nbconvert_exporter": "python",
   "pygments_lexer": "ipython3",
   "version": "3.12.4"
  }
 },
 "nbformat": 4,
 "nbformat_minor": 2
}
